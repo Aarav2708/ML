{
  "nbformat": 4,
  "nbformat_minor": 0,
  "metadata": {
    "colab": {
      "provenance": []
    },
    "kernelspec": {
      "name": "python3",
      "display_name": "Python 3"
    },
    "language_info": {
      "name": "python"
    }
  },
  "cells": [
    {
      "cell_type": "code",
      "source": [
        "import numpy as np\n",
        "import pandas as pd\n",
        "import matplotlib.pyplot as plt\n",
        "import copy\n",
        "import sympy as sy\n",
        "from sympy import lambdify\n",
        "import jax\n",
        "import jax.numpy as jnp\n",
        "from jax import grad, jit, vmap\n",
        "from jax import random\n",
        "import time\n",
        "\n",
        "key = random.PRNGKey(0)\n",
        "\n"
      ],
      "metadata": {
        "id": "hy0JyiDHxldB"
      },
      "execution_count": 1,
      "outputs": []
    },
    {
      "cell_type": "markdown",
      "source": [
        "# Question 1 and 2"
      ],
      "metadata": {
        "id": "jpMajW_NNsY2"
      }
    },
    {
      "cell_type": "markdown",
      "source": [
        "Total Number of Multiplications=**n*k*m**\n",
        "\n",
        "This is because when multiplying the ith row of A with jth column of B, k elements of ith row of A are multiplied by k elements of jth column of B. Therefore, k multipications are needed for one element.\n",
        "Total there are n*m elements, so it becomes (n*k)*m.\n",
        "\n",
        "\n"
      ],
      "metadata": {
        "id": "LlgHS3v5Yj4u"
      }
    },
    {
      "cell_type": "markdown",
      "source": [
        "Total Number of Additions=**n*(k-1)*m**\n",
        "\n",
        "This is because, for any element, k elements of ith row of A and jth column of B are multiplied, and then added. Since there are k elements, there will be (k-1) additions.\n",
        "\n",
        "This is repated for (n*m) elements.So, it becomes n*(k-1)*m ."
      ],
      "metadata": {
        "id": "ezGZsRPraqBg"
      }
    },
    {
      "cell_type": "markdown",
      "source": [
        "## Using python lists"
      ],
      "metadata": {
        "id": "fF0LkhpeYA0H"
      }
    },
    {
      "cell_type": "code",
      "source": [
        "curr_1=time.time()\n",
        "def manual_mult(A,B,m):# m is the number of columns of Matrix B\n",
        "\n",
        "    n,k=len(A),len(B)\n",
        "    C= [([0]*m) for i in range(n)]\n",
        "    for i in range(n):# ith row of A\n",
        "      for j in range(m):# jth row of B\n",
        "\n",
        "        for l in range(k):\n",
        "          sum=A[i][l]*B[l][j]\n",
        "          C[i][j]+=sum\n",
        "    return(C)\n",
        "\n",
        "A=np.random.randint(1,5,(5,6))\n",
        "B=np.random.randint(1,5,(6,10))\n",
        "m=B.shape[1]\n",
        "\n",
        "mat_1=manual_mult(A,B,m)\n",
        "t_1=time.time()\n",
        "time_1=t_1-curr_1\n",
        "mat_1\n"
      ],
      "metadata": {
        "colab": {
          "base_uri": "https://localhost:8080/"
        },
        "id": "2t4NkoNsN-2n",
        "outputId": "77e3330c-73c5-4f1e-92c4-f525570d0d96"
      },
      "execution_count": 2,
      "outputs": [
        {
          "output_type": "execute_result",
          "data": {
            "text/plain": [
              "[[28, 36, 23, 35, 22, 27, 30, 42, 38, 30],\n",
              " [42, 50, 34, 44, 30, 36, 42, 56, 52, 42],\n",
              " [33, 42, 28, 35, 26, 24, 34, 43, 40, 36],\n",
              " [34, 36, 28, 34, 20, 30, 29, 46, 45, 28],\n",
              " [31, 48, 26, 45, 31, 32, 40, 51, 43, 41]]"
            ]
          },
          "metadata": {},
          "execution_count": 2
        }
      ]
    },
    {
      "cell_type": "markdown",
      "source": [
        "Using Numpy"
      ],
      "metadata": {
        "id": "L5EZajW9YGFD"
      }
    },
    {
      "cell_type": "code",
      "source": [
        "curr_2=time.time()\n",
        "def dot(A,B):\n",
        "  C=np.dot(A,B)\n",
        "  return(C)\n",
        "mat_2=dot(A,B)\n",
        "t_2=time.time()\n",
        "time_2=t_2-curr_2\n",
        "mat_2"
      ],
      "metadata": {
        "colab": {
          "base_uri": "https://localhost:8080/"
        },
        "id": "-vF2CEfMQ3_Y",
        "outputId": "94a38c58-c3ab-4870-dbde-d44f6893e1fe"
      },
      "execution_count": 3,
      "outputs": [
        {
          "output_type": "execute_result",
          "data": {
            "text/plain": [
              "array([[28, 36, 23, 35, 22, 27, 30, 42, 38, 30],\n",
              "       [42, 50, 34, 44, 30, 36, 42, 56, 52, 42],\n",
              "       [33, 42, 28, 35, 26, 24, 34, 43, 40, 36],\n",
              "       [34, 36, 28, 34, 20, 30, 29, 46, 45, 28],\n",
              "       [31, 48, 26, 45, 31, 32, 40, 51, 43, 41]])"
            ]
          },
          "metadata": {},
          "execution_count": 3
        }
      ]
    },
    {
      "cell_type": "code",
      "source": [
        "print(time_1,time_2)\n",
        "print(time_1/time_2)\n"
      ],
      "metadata": {
        "colab": {
          "base_uri": "https://localhost:8080/"
        },
        "id": "5LP-AcCPqa7E",
        "outputId": "38352aa1-f888-4678-ceb9-a1702a605980"
      },
      "execution_count": 4,
      "outputs": [
        {
          "output_type": "stream",
          "name": "stdout",
          "text": [
            "0.006231069564819336 0.00022935867309570312\n",
            "27.16735966735967\n"
          ]
        }
      ]
    },
    {
      "cell_type": "markdown",
      "source": [
        "Hence, numpy is almost 4.5 times faster than python lists."
      ],
      "metadata": {
        "id": "nJGfqO4tq1BK"
      }
    },
    {
      "cell_type": "markdown",
      "source": [
        "# Question-3"
      ],
      "metadata": {
        "id": "zE-emFDFujgx"
      }
    },
    {
      "cell_type": "markdown",
      "source": [
        "### Using Quicksort algorithm, we divide and conquer the time complexity here is n*log(n) ."
      ],
      "metadata": {
        "id": "phdq0Yo505ea"
      }
    },
    {
      "cell_type": "code",
      "source": [
        "t_0_1=time.time()\n",
        "def partition(array,low,high):\n",
        "\n",
        "  pivot=array[high]\n",
        "  i=low-1\n",
        "\n",
        "  for j in range(low,high):\n",
        "    if array[j]<=pivot:\n",
        "      i+=1\n",
        "      (array[i],array[j])=(array[j],array[i])\n",
        "  (array[i+1],array[high])=(array[high],array[i+1])\n",
        "  return(i+1)\n",
        "\n",
        "def quickSort(array,low,high):\n",
        "  if low<high:\n",
        "\n",
        "    pi=partition(array,low,high)\n",
        "    quickSort(array,low,pi-1)\n",
        "    quickSort(array,pi+1,high)\n",
        "data = [10,9,8,7,6,5,4,3,2,1]\n",
        "size = len(data)\n",
        "\n",
        "quickSort(data, 0, size - 1)\n",
        "def median(data):\n",
        "  size=len(data)\n",
        "  if size%2==0:\n",
        "    median=(data[(size//2)-1]+data[(size//2)])/2\n",
        "  else:\n",
        "    median=data[size//2]\n",
        "  return(median)\n",
        "\n",
        "t_1_1=time.time()\n",
        "time_1=t_1_1-t_0_1"
      ],
      "metadata": {
        "id": "1Z35Dp7Auiju"
      },
      "execution_count": 42,
      "outputs": []
    },
    {
      "cell_type": "code",
      "source": [
        "t_0_2=time.time()\n",
        "def num_median(arr):\n",
        "  c=np.median(arr)\n",
        "  return(c)\n",
        "t_1_2=time.time()\n",
        "time_2=t_1_2-t_0_2"
      ],
      "metadata": {
        "id": "HmoTi1xnz5uT"
      },
      "execution_count": 43,
      "outputs": []
    },
    {
      "cell_type": "code",
      "source": [
        "print(time_1,time_2)\n",
        "print(time_1/time_2)\n"
      ],
      "metadata": {
        "colab": {
          "base_uri": "https://localhost:8080/"
        },
        "id": "M2keb8I40tvm",
        "outputId": "9cf7ec08-3f77-4a18-edfb-555f1eff9388"
      },
      "execution_count": 44,
      "outputs": [
        {
          "output_type": "stream",
          "name": "stdout",
          "text": [
            "0.0005137920379638672 0.00013947486877441406\n",
            "3.6837606837606836\n"
          ]
        }
      ]
    },
    {
      "cell_type": "markdown",
      "source": [
        "### Numpy is almost 5.4 times faster than the python lists here."
      ],
      "metadata": {
        "id": "Qz9rinx61NxB"
      }
    },
    {
      "cell_type": "markdown",
      "source": [
        "# Question 4,5 and 6"
      ],
      "metadata": {
        "id": "egHvskrzOORk"
      }
    },
    {
      "cell_type": "code",
      "source": [
        "X=np.random.uniform(5.,10.,(5,))\n",
        "Y=np.random.uniform(6.,11.,(5,))\n",
        "\n",
        "X_j=jnp.array(X)\n",
        "Y_j=jnp.array(Y)"
      ],
      "metadata": {
        "id": "biASajuzcw2b"
      },
      "execution_count": 8,
      "outputs": []
    },
    {
      "cell_type": "markdown",
      "source": [
        "## Question-4: Manually"
      ],
      "metadata": {
        "id": "573F37jd3f7n"
      }
    },
    {
      "cell_type": "code",
      "source": [
        "def f(x,y):\n",
        "  a=(x**2)*y +(y**3)*jnp.sin(x)\n",
        "  return(a)\n",
        "\n",
        "def df_dx(x,y):\n",
        "  a=2*(x*y)+(y**3)*np.cos(x)\n",
        "  return(a)\n",
        "\n",
        "def df_dy(x,y):\n",
        "  a=(x**2)+(3*(y**2))*np.sin(x)\n",
        "  return(a)\n",
        "\n",
        "print(df_dx(X,Y),df_dy(X,Y))"
      ],
      "metadata": {
        "colab": {
          "base_uri": "https://localhost:8080/"
        },
        "id": "4wRGTs0u2WLK",
        "outputId": "82e25d18-a6eb-44d8-bc8b-9479550c5cd8"
      },
      "execution_count": 9,
      "outputs": [
        {
          "output_type": "stream",
          "name": "stdout",
          "text": [
            "[ -345.85341975 -1055.95455686  -138.10941278  -569.63786841\n",
            "  -140.34385499] [175.04790356 153.11547479 365.01204949 -49.73377495  84.65580338]\n"
          ]
        }
      ]
    },
    {
      "cell_type": "markdown",
      "source": [
        "# Question-5: Using JAX"
      ],
      "metadata": {
        "id": "TWshW3KlxjTr"
      }
    },
    {
      "cell_type": "code",
      "source": [
        "grad_h=grad(f,argnums=[0,1])\n",
        "lst=np.zeros((len(X),))\n",
        "for i in range(len(X)-1):\n",
        "  g=grad_h(X[i],Y[i])\n",
        "  print(g)\n",
        "\n",
        "\n"
      ],
      "metadata": {
        "colab": {
          "base_uri": "https://localhost:8080/"
        },
        "id": "KHBVu8ETxmpF",
        "outputId": "fb922cd6-b7da-4f70-fd2f-ac2f1bca90c8"
      },
      "execution_count": 10,
      "outputs": [
        {
          "output_type": "stream",
          "name": "stdout",
          "text": [
            "(Array(-345.85333, dtype=float32), Array(175.04794, dtype=float32))\n",
            "(Array(-1055.9546, dtype=float32), Array(153.11562, dtype=float32))\n",
            "(Array(-138.10902, dtype=float32), Array(365.0121, dtype=float32))\n",
            "(Array(-569.6377, dtype=float32), Array(-49.73388, dtype=float32))\n"
          ]
        }
      ]
    },
    {
      "cell_type": "markdown",
      "source": [
        "## Question-6: Using Sympy"
      ],
      "metadata": {
        "id": "3iV_EH5C1lHF"
      }
    },
    {
      "cell_type": "code",
      "source": [
        "p,q=sy.symbols('p ,q')\n",
        "func=(p**2)*q+(q**3)*sy.sin(p)# Writing the function symbolically\n",
        "func_p=sy.diff(func,p)\n",
        "func_q=sy.diff(func,q)\n",
        "func"
      ],
      "metadata": {
        "colab": {
          "base_uri": "https://localhost:8080/",
          "height": 39
        },
        "id": "PAJtFvqASNB9",
        "outputId": "443fd7a7-3532-4d96-b4a3-de357ebb1b78"
      },
      "execution_count": 11,
      "outputs": [
        {
          "output_type": "execute_result",
          "data": {
            "text/plain": [
              "p**2*q + q**3*sin(p)"
            ],
            "text/latex": "$\\displaystyle p^{2} q + q^{3} \\sin{\\left(p \\right)}$"
          },
          "metadata": {},
          "execution_count": 11
        }
      ]
    },
    {
      "cell_type": "code",
      "source": [
        "f_p=lambdify([p,q],func_p,\"numpy\")# Gradient wrt p\n",
        "\n",
        "f_q=lambdify([p,q],func_q,\"numpy\")# Gradient wrt q\n",
        "\n",
        "print(f_p(X,Y),f_q(X,Y))# Plugging X and Y as inputs in the gradient functions"
      ],
      "metadata": {
        "colab": {
          "base_uri": "https://localhost:8080/"
        },
        "id": "JW4YuFbF08SZ",
        "outputId": "9edf3bd4-8c3a-49bd-b16d-f299418a37c7"
      },
      "execution_count": 12,
      "outputs": [
        {
          "output_type": "stream",
          "name": "stdout",
          "text": [
            "[ -345.85341975 -1055.95455686  -138.10941278  -569.63786841\n",
            "  -140.34385499] [175.04790356 153.11547479 365.01204949 -49.73377495  84.65580338]\n"
          ]
        }
      ]
    },
    {
      "cell_type": "markdown",
      "source": [
        "# Question-7"
      ],
      "metadata": {
        "id": "_taI8Jav3wsd"
      }
    },
    {
      "cell_type": "code",
      "source": [
        "dic_1={\"Roll Number\":1,\"Name\":\"N\",\"Marks\":{\"Maths\":100,\"English\":70}}# This one corresponds to branch-1\n",
        "dic_1_2={\"Branch 1\":dic_1,\"Branch 2\":[]}# This one corresponds to 2022\n",
        "dic_22=dic_1_2# First entry of the main dict\n",
        "dic_23={\"Branch 1\":[],\"Branch 2\":[]}\n",
        "dic_24={\"Branch 1\":[],\"Branch 2\":[]}\n",
        "dic_25={\"Branch 1\":[],\"Branch 2\":[]}\n",
        "\n",
        "dic={\"2022\":dic_22,\"2023\":dic_23,\"2023\":dic_23,\"2024\":dic_24,\"2025\":dic_25}\n",
        "dic\n"
      ],
      "metadata": {
        "colab": {
          "base_uri": "https://localhost:8080/"
        },
        "id": "dzj1cmq4309F",
        "outputId": "7221e712-5391-4997-e309-433c2c05857a"
      },
      "execution_count": 13,
      "outputs": [
        {
          "output_type": "execute_result",
          "data": {
            "text/plain": [
              "{'2022': {'Branch 1': {'Roll Number': 1,\n",
              "   'Name': 'N',\n",
              "   'Marks': {'Maths': 100, 'English': 70}},\n",
              "  'Branch 2': []},\n",
              " '2023': {'Branch 1': [], 'Branch 2': []},\n",
              " '2024': {'Branch 1': [], 'Branch 2': []},\n",
              " '2025': {'Branch 1': [], 'Branch 2': []}}"
            ]
          },
          "metadata": {},
          "execution_count": 13
        }
      ]
    },
    {
      "cell_type": "markdown",
      "source": [
        "# Question-8"
      ],
      "metadata": {
        "id": "KMXzU-ZPL1Qw"
      }
    },
    {
      "cell_type": "code",
      "source": [
        "class Year(object):# Year\n",
        "\n",
        "  def __init__(self,year):\n",
        "    self.year=year\n",
        "\n",
        "  def getYear(self):\n",
        "    return(self.year)\n",
        "\n",
        "class Branch(Year):# Branch as a child class of Year\n",
        "\n",
        "  def __init__(self,year,branch):\n",
        "    Year.__init__(self,year)\n",
        "    self.branch=branch\n",
        "\n",
        "  def getBranch(self):\n",
        "    return(self.branch)\n",
        "\n",
        "class details(Branch):# details contain Name, marks and roll_no, as a child of Branch\n",
        "\n",
        "  def __init__(self,year,branch,roll_no,Name):\n",
        "    Branch.__init__(self,year,branch)\n",
        "    self.Name=Name\n",
        "    self.roll_no=roll_no\n",
        "\n",
        "\n",
        "  def getDetails(self):\n",
        "    return([self.roll_no,self.Name])\n",
        "\n",
        "class Marks(details):\n",
        "\n",
        "  def __init__(self,year,branch,roll_no,name,maths,english):\n",
        "    self.maths=maths\n",
        "    self.english=english\n",
        "    super().__init__(year,branch,roll_no,name)\n",
        "\n",
        "  def getMarks(self):\n",
        "    return([self.maths,self.english])# Prints the marks of maths and english\n",
        "\n",
        "a=Marks(2022,\"Branch 1\",1,\"N\",100,70)\n",
        "a.getMarks()\n",
        "\n"
      ],
      "metadata": {
        "colab": {
          "base_uri": "https://localhost:8080/"
        },
        "id": "W_O2OVvyLv9d",
        "outputId": "411d7184-5a2f-437c-ae10-95eaf5cfa6ce"
      },
      "execution_count": 71,
      "outputs": [
        {
          "output_type": "execute_result",
          "data": {
            "text/plain": [
              "[100, 70]"
            ]
          },
          "metadata": {},
          "execution_count": 71
        }
      ]
    },
    {
      "cell_type": "markdown",
      "source": [
        "## Question-9"
      ],
      "metadata": {
        "id": "Rmy02zHqxOju"
      }
    },
    {
      "cell_type": "code",
      "execution_count": 21,
      "metadata": {
        "id": "UNpYKb7cv_yN"
      },
      "outputs": [],
      "source": [
        "x=np.arange(0.5,100.5,0.5)"
      ]
    },
    {
      "cell_type": "code",
      "source": [
        "def a(k):\n",
        "  return k\n",
        "\n",
        "def b(k):\n",
        "  return(k**2)\n",
        "\n",
        "def c(k):\n",
        "  return(x**3/100)\n",
        "\n",
        "def d(k):\n",
        "  #import numpy as np\n",
        "  return(np.sin(k))\n",
        "\n",
        "def e(k):\n",
        "  #import numpy as np\n",
        "  y=np.sin(k)/k\n",
        "  return(y)\n",
        "\n",
        "def f(k):\n",
        "  #import numpy as np\n",
        "  y=np.log(k)\n",
        "  return(y)\n",
        "\n",
        "def g(k):\n",
        "  #import numpy as np\n",
        "\n",
        "  return(np.exp(k))\n"
      ],
      "metadata": {
        "id": "CwUVshrZx-aZ"
      },
      "execution_count": 22,
      "outputs": []
    },
    {
      "cell_type": "markdown",
      "source": [
        "1. y=x"
      ],
      "metadata": {
        "id": "LhY0D-2Y4DOG"
      }
    },
    {
      "cell_type": "code",
      "source": [
        "plt.plot(x,a(x))\n",
        "plt.title(\"y=x\")\n",
        "plt.show()"
      ],
      "metadata": {
        "id": "41qYzmaR4BUq",
        "colab": {
          "base_uri": "https://localhost:8080/",
          "height": 452
        },
        "outputId": "d87b7a82-b15d-47d6-d6b2-5b31e7904ad4"
      },
      "execution_count": 23,
      "outputs": [
        {
          "output_type": "display_data",
          "data": {
            "text/plain": [
              "<Figure size 640x480 with 1 Axes>"
            ],
            "image/png": "[encoded data removed]"
          },
          "metadata": {}
        }
      ]
    },
    {
      "cell_type": "markdown",
      "source": [
        "2. y=x^2"
      ],
      "metadata": {
        "id": "ez5E4b5d4S26"
      }
    },
    {
      "cell_type": "code",
      "source": [
        "plt.plot(x,b(x))\n",
        "plt.title(\"y=x**2\")\n",
        "plt.show()"
      ],
      "metadata": {
        "id": "d4CTsDLv4SZd",
        "colab": {
          "base_uri": "https://localhost:8080/",
          "height": 452
        },
        "outputId": "50befc79-5c71-4c21-a54b-8c8ce6bac511"
      },
      "execution_count": 24,
      "outputs": [
        {
          "output_type": "display_data",
          "data": {
            "text/plain": [
              "<Figure size 640x480 with 1 Axes>"
            ],
            "image/png": "[encoded data removed]"
          },
          "metadata": {}
        }
      ]
    },
    {
      "cell_type": "markdown",
      "source": [
        "3. y=x**3/100"
      ],
      "metadata": {
        "id": "41m0DZEZ4hXZ"
      }
    },
    {
      "cell_type": "code",
      "source": [
        "plt.plot(x,c(x))\n",
        "plt.title(\"y=x**3/100\")\n",
        "plt.show()"
      ],
      "metadata": {
        "id": "A6GXytRe4kDw",
        "colab": {
          "base_uri": "https://localhost:8080/",
          "height": 452
        },
        "outputId": "de0455a4-ffd4-497d-8450-a2193b6e0702"
      },
      "execution_count": 25,
      "outputs": [
        {
          "output_type": "display_data",
          "data": {
            "text/plain": [
              "<Figure size 640x480 with 1 Axes>"
            ],
            "image/png": "[encoded data removed]"
          },
          "metadata": {}
        }
      ]
    },
    {
      "cell_type": "markdown",
      "source": [
        "4.y=Sin(x)"
      ],
      "metadata": {
        "id": "4n2UXLK643_O"
      }
    },
    {
      "cell_type": "code",
      "source": [
        "plt.plot(x,d(x))\n",
        "plt.title('y=Sin(x)')\n",
        "plt.show()\n"
      ],
      "metadata": {
        "id": "viAZFbQC42oR",
        "colab": {
          "base_uri": "https://localhost:8080/",
          "height": 452
        },
        "outputId": "d85301de-647a-4ef0-926f-46375923cf58"
      },
      "execution_count": 26,
      "outputs": [
        {
          "output_type": "display_data",
          "data": {
            "text/plain": [
              "<Figure size 640x480 with 1 Axes>"
            ],
            "image/png": "[encoded data removed]"
          },
          "metadata": {}
        }
      ]
    },
    {
      "cell_type": "markdown",
      "source": [
        "5. y=Sin(x)/x"
      ],
      "metadata": {
        "id": "-bf78DYr5E0c"
      }
    },
    {
      "cell_type": "code",
      "source": [
        "plt.plot(x,e(x))\n",
        "plt.title(\"y=Sin(x)/x\")\n",
        "plt.show()"
      ],
      "metadata": {
        "id": "skCWNc2x5IGu",
        "colab": {
          "base_uri": "https://localhost:8080/",
          "height": 452
        },
        "outputId": "21c69c01-af72-4218-f515-a03874c7be53"
      },
      "execution_count": 27,
      "outputs": [
        {
          "output_type": "display_data",
          "data": {
            "text/plain": [
              "<Figure size 640x480 with 1 Axes>"
            ],
            "image/png": "[encoded data removed]"
          },
          "metadata": {}
        }
      ]
    },
    {
      "cell_type": "markdown",
      "source": [
        "6. y=Log(x)"
      ],
      "metadata": {
        "id": "TaSGacnj5UiG"
      }
    },
    {
      "cell_type": "code",
      "source": [
        "plt.plot(x,f(x))\n",
        "plt.title(\"y=Log(x)\")\n",
        "plt.show()"
      ],
      "metadata": {
        "id": "hfNfZrYu5UDZ",
        "colab": {
          "base_uri": "https://localhost:8080/",
          "height": 452
        },
        "outputId": "8919833a-e89a-4327-a908-aa58fb84f20f"
      },
      "execution_count": 28,
      "outputs": [
        {
          "output_type": "display_data",
          "data": {
            "text/plain": [
              "<Figure size 640x480 with 1 Axes>"
            ],
            "image/png": "[encoded data removed]"
          },
          "metadata": {}
        }
      ]
    },
    {
      "cell_type": "markdown",
      "source": [
        "7. y=Exp(x)"
      ],
      "metadata": {
        "id": "7gXOmVKR5oc2"
      }
    },
    {
      "cell_type": "code",
      "source": [
        "plt.plot(x,g(x))\n",
        "plt.title(\"y=Exp(x)\")\n",
        "\n",
        "plt.show()\n"
      ],
      "metadata": {
        "id": "rMcsMVh85rEL",
        "colab": {
          "base_uri": "https://localhost:8080/",
          "height": 452
        },
        "outputId": "71b45007-c7c9-4744-be80-a70fd5cce490"
      },
      "execution_count": 29,
      "outputs": [
        {
          "output_type": "display_data",
          "data": {
            "text/plain": [
              "<Figure size 640x480 with 1 Axes>"
            ],
            "image/png": "[encoded data removed]"
          },
          "metadata": {}
        }
      ]
    },
    {
      "cell_type": "markdown",
      "source": [
        "# Questions 10 and 11"
      ],
      "metadata": {
        "id": "sXJHGcpGkZ_C"
      }
    },
    {
      "cell_type": "code",
      "source": [
        "arr=np.zeros((20,5))\n",
        "arr=np.random.uniform(1,2,(20,5))\n",
        "df=pd.DataFrame(arr,columns=[\"a\",\"b\",\"c\",\"d\",\"e\"])\n",
        "df"
      ],
      "metadata": {
        "id": "RU322LAaOTlq",
        "colab": {
          "base_uri": "https://localhost:8080/",
          "height": 676
        },
        "outputId": "d03630ae-0505-40ac-c07f-cda292ffc098"
      },
      "execution_count": 30,
      "outputs": [
        {
          "output_type": "execute_result",
          "data": {
            "text/plain": [
              "           a         b         c         d         e\n",
              "0   1.098954  1.201182  1.203954  1.801012  1.041090\n",
              "1   1.747202  1.928617  1.587563  1.880681  1.230562\n",
              "2   1.417275  1.013344  1.043874  1.383107  1.981518\n",
              "3   1.698205  1.154830  1.400956  1.686782  1.647850\n",
              "4   1.448735  1.516542  1.971178  1.584383  1.754596\n",
              "5   1.779315  1.274107  1.387838  1.871619  1.743528\n",
              "6   1.909606  1.053015  1.820136  1.897921  1.067862\n",
              "7   1.967831  1.801678  1.840179  1.831502  1.179400\n",
              "8   1.432267  1.034448  1.191877  1.391896  1.455771\n",
              "9   1.851008  1.479971  1.980571  1.362845  1.911139\n",
              "10  1.285684  1.636362  1.628241  1.944928  1.378907\n",
              "11  1.929475  1.504596  1.314915  1.353149  1.861452\n",
              "12  1.329810  1.823742  1.837802  1.683656  1.751900\n",
              "13  1.912916  1.158098  1.348853  1.762686  1.779511\n",
              "14  1.852346  1.731080  1.703015  1.958055  1.796217\n",
              "15  1.414894  1.465093  1.942552  1.815752  1.028016\n",
              "16  1.389661  1.175858  1.784546  1.288958  1.093105\n",
              "17  1.655867  1.305586  1.254823  1.182830  1.252893\n",
              "18  1.476872  1.598122  1.252493  1.399908  1.148762\n",
              "19  1.403063  1.584497  1.461752  1.138020  1.042403"
            ],
            "text/html": [
              "\n",
              "  <div id=\"df-a10b3484-adb0-4d28-9ead-db523118976a\" class=\"colab-df-container\">\n",
              "    <div>\n",
              "<style scoped>\n",
              "    .dataframe tbody tr th:only-of-type {\n",
              "        vertical-align: middle;\n",
              "    }\n",
              "\n",
              "    .dataframe tbody tr th {\n",
              "        vertical-align: top;\n",
              "    }\n",
              "\n",
              "    .dataframe thead th {\n",
              "        text-align: right;\n",
              "    }\n",
              "</style>\n",
              "<table border=\"1\" class=\"dataframe\">\n",
              "  <thead>\n",
              "    <tr style=\"text-align: right;\">\n",
              "      <th></th>\n",
              "      <th>a</th>\n",
              "      <th>b</th>\n",
              "      <th>c</th>\n",
              "      <th>d</th>\n",
              "      <th>e</th>\n",
              "    </tr>\n",
              "  </thead>\n",
              "  <tbody>\n",
              "    <tr>\n",
              "      <th>0</th>\n",
              "      <td>1.098954</td>\n",
              "      <td>1.201182</td>\n",
              "      <td>1.203954</td>\n",
              "      <td>1.801012</td>\n",
              "      <td>1.041090</td>\n",
              "    </tr>\n",
              "    <tr>\n",
              "      <th>1</th>\n",
              "      <td>1.747202</td>\n",
              "      <td>1.928617</td>\n",
              "      <td>1.587563</td>\n",
              "      <td>1.880681</td>\n",
              "      <td>1.230562</td>\n",
              "    </tr>\n",
              "    <tr>\n",
              "      <th>2</th>\n",
              "      <td>1.417275</td>\n",
              "      <td>1.013344</td>\n",
              "      <td>1.043874</td>\n",
              "      <td>1.383107</td>\n",
              "      <td>1.981518</td>\n",
              "    </tr>\n",
              "    <tr>\n",
              "      <th>3</th>\n",
              "      <td>1.698205</td>\n",
              "      <td>1.154830</td>\n",
              "      <td>1.400956</td>\n",
              "      <td>1.686782</td>\n",
              "      <td>1.647850</td>\n",
              "    </tr>\n",
              "    <tr>\n",
              "      <th>4</th>\n",
              "      <td>1.448735</td>\n",
              "      <td>1.516542</td>\n",
              "      <td>1.971178</td>\n",
              "      <td>1.584383</td>\n",
              "      <td>1.754596</td>\n",
              "    </tr>\n",
              "    <tr>\n",
              "      <th>5</th>\n",
              "      <td>1.779315</td>\n",
              "      <td>1.274107</td>\n",
              "      <td>1.387838</td>\n",
              "      <td>1.871619</td>\n",
              "      <td>1.743528</td>\n",
              "    </tr>\n",
              "    <tr>\n",
              "      <th>6</th>\n",
              "      <td>1.909606</td>\n",
              "      <td>1.053015</td>\n",
              "      <td>1.820136</td>\n",
              "      <td>1.897921</td>\n",
              "      <td>1.067862</td>\n",
              "    </tr>\n",
              "    <tr>\n",
              "      <th>7</th>\n",
              "      <td>1.967831</td>\n",
              "      <td>1.801678</td>\n",
              "      <td>1.840179</td>\n",
              "      <td>1.831502</td>\n",
              "      <td>1.179400</td>\n",
              "    </tr>\n",
              "    <tr>\n",
              "      <th>8</th>\n",
              "      <td>1.432267</td>\n",
              "      <td>1.034448</td>\n",
              "      <td>1.191877</td>\n",
              "      <td>1.391896</td>\n",
              "      <td>1.455771</td>\n",
              "    </tr>\n",
              "    <tr>\n",
              "      <th>9</th>\n",
              "      <td>1.851008</td>\n",
              "      <td>1.479971</td>\n",
              "      <td>1.980571</td>\n",
              "      <td>1.362845</td>\n",
              "      <td>1.911139</td>\n",
              "    </tr>\n",
              "    <tr>\n",
              "      <th>10</th>\n",
              "      <td>1.285684</td>\n",
              "      <td>1.636362</td>\n",
              "      <td>1.628241</td>\n",
              "      <td>1.944928</td>\n",
              "      <td>1.378907</td>\n",
              "    </tr>\n",
              "    <tr>\n",
              "      <th>11</th>\n",
              "      <td>1.929475</td>\n",
              "      <td>1.504596</td>\n",
              "      <td>1.314915</td>\n",
              "      <td>1.353149</td>\n",
              "      <td>1.861452</td>\n",
              "    </tr>\n",
              "    <tr>\n",
              "      <th>12</th>\n",
              "      <td>1.329810</td>\n",
              "      <td>1.823742</td>\n",
              "      <td>1.837802</td>\n",
              "      <td>1.683656</td>\n",
              "      <td>1.751900</td>\n",
              "    </tr>\n",
              "    <tr>\n",
              "      <th>13</th>\n",
              "      <td>1.912916</td>\n",
              "      <td>1.158098</td>\n",
              "      <td>1.348853</td>\n",
              "      <td>1.762686</td>\n",
              "      <td>1.779511</td>\n",
              "    </tr>\n",
              "    <tr>\n",
              "      <th>14</th>\n",
              "      <td>1.852346</td>\n",
              "      <td>1.731080</td>\n",
              "      <td>1.703015</td>\n",
              "      <td>1.958055</td>\n",
              "      <td>1.796217</td>\n",
              "    </tr>\n",
              "    <tr>\n",
              "      <th>15</th>\n",
              "      <td>1.414894</td>\n",
              "      <td>1.465093</td>\n",
              "      <td>1.942552</td>\n",
              "      <td>1.815752</td>\n",
              "      <td>1.028016</td>\n",
              "    </tr>\n",
              "    <tr>\n",
              "      <th>16</th>\n",
              "      <td>1.389661</td>\n",
              "      <td>1.175858</td>\n",
              "      <td>1.784546</td>\n",
              "      <td>1.288958</td>\n",
              "      <td>1.093105</td>\n",
              "    </tr>\n",
              "    <tr>\n",
              "      <th>17</th>\n",
              "      <td>1.655867</td>\n",
              "      <td>1.305586</td>\n",
              "      <td>1.254823</td>\n",
              "      <td>1.182830</td>\n",
              "      <td>1.252893</td>\n",
              "    </tr>\n",
              "    <tr>\n",
              "      <th>18</th>\n",
              "      <td>1.476872</td>\n",
              "      <td>1.598122</td>\n",
              "      <td>1.252493</td>\n",
              "      <td>1.399908</td>\n",
              "      <td>1.148762</td>\n",
              "    </tr>\n",
              "    <tr>\n",
              "      <th>19</th>\n",
              "      <td>1.403063</td>\n",
              "      <td>1.584497</td>\n",
              "      <td>1.461752</td>\n",
              "      <td>1.138020</td>\n",
              "      <td>1.042403</td>\n",
              "    </tr>\n",
              "  </tbody>\n",
              "</table>\n",
              "</div>\n",
              "    <div class=\"colab-df-buttons\">\n",
              "\n",
              "  <div class=\"colab-df-container\">\n",
              "    <button class=\"colab-df-convert\" onclick=\"convertToInteractive('df-a10b3484-adb0-4d28-9ead-db523118976a')\"\n",
              "            title=\"Convert this dataframe to an interactive table.\"\n",
              "            style=\"display:none;\">\n",
              "\n",
              "  <svg xmlns=\"http://www.w3.org/2000/svg\" height=\"24px\" viewBox=\"0 -960 960 960\">\n",
              "    <path d=\"M120-120v-720h720v720H120Zm60-500h600v-160H180v160Zm220 220h160v-160H400v160Zm0 220h160v-160H400v160ZM180-400h160v-160H180v160Zm440 0h160v-160H620v160ZM180-180h160v-160H180v160Zm440 0h160v-160H620v160Z\"/>\n",
              "  </svg>\n",
              "    </button>\n",
              "\n",
              "  <style>\n",
              "    .colab-df-container {\n",
              "      display:flex;\n",
              "      gap: 12px;\n",
              "    }\n",
              "\n",
              "    .colab-df-convert {\n",
              "      background-color: #E8F0FE;\n",
              "      border: none;\n",
              "      border-radius: 50%;\n",
              "      cursor: pointer;\n",
              "      display: none;\n",
              "      fill: #1967D2;\n",
              "      height: 32px;\n",
              "      padding: 0 0 0 0;\n",
              "      width: 32px;\n",
              "    }\n",
              "\n",
              "    .colab-df-convert:hover {\n",
              "      background-color: #E2EBFA;\n",
              "      box-shadow: 0px 1px 2px rgba(60, 64, 67, 0.3), 0px 1px 3px 1px rgba(60, 64, 67, 0.15);\n",
              "      fill: #174EA6;\n",
              "    }\n",
              "\n",
              "    .colab-df-buttons div {\n",
              "      margin-bottom: 4px;\n",
              "    }\n",
              "\n",
              "    [theme=dark] .colab-df-convert {\n",
              "      background-color: #3B4455;\n",
              "      fill: #D2E3FC;\n",
              "    }\n",
              "\n",
              "    [theme=dark] .colab-df-convert:hover {\n",
              "      background-color: #434B5C;\n",
              "      box-shadow: 0px 1px 3px 1px rgba(0, 0, 0, 0.15);\n",
              "      filter: drop-shadow(0px 1px 2px rgba(0, 0, 0, 0.3));\n",
              "      fill: #FFFFFF;\n",
              "    }\n",
              "  </style>\n",
              "\n",
              "    <script>\n",
              "      const buttonEl =\n",
              "        document.querySelector('#df-a10b3484-adb0-4d28-9ead-db523118976a button.colab-df-convert');\n",
              "      buttonEl.style.display =\n",
              "        google.colab.kernel.accessAllowed ? 'block' : 'none';\n",
              "\n",
              "      async function convertToInteractive(key) {\n",
              "        const element = document.querySelector('#df-a10b3484-adb0-4d28-9ead-db523118976a');\n",
              "        const dataTable =\n",
              "          await google.colab.kernel.invokeFunction('convertToInteractive',\n",
              "                                                    [key], {});\n",
              "        if (!dataTable) return;\n",
              "\n",
              "        const docLinkHtml = 'Like what you see? Visit the ' +\n",
              "          '<a target=\"_blank\" href=https://colab.research.google.com/notebooks/data_table.ipynb>data table notebook</a>'\n",
              "          + ' to learn more about interactive tables.';\n",
              "        element.innerHTML = '';\n",
              "        dataTable['output_type'] = 'display_data';\n",
              "        await google.colab.output.renderOutput(dataTable, element);\n",
              "        const docLink = document.createElement('div');\n",
              "        docLink.innerHTML = docLinkHtml;\n",
              "        element.appendChild(docLink);\n",
              "      }\n",
              "    </script>\n",
              "  </div>\n",
              "\n",
              "\n",
              "<div id=\"df-71ef4129-254b-490d-97c9-09605fa1b27f\">\n",
              "  <button class=\"colab-df-quickchart\" onclick=\"quickchart('df-71ef4129-254b-490d-97c9-09605fa1b27f')\"\n",
              "            title=\"Suggest charts\"\n",
              "            style=\"display:none;\">\n",
              "\n",
              "<svg xmlns=\"http://www.w3.org/2000/svg\" height=\"24px\"viewBox=\"0 0 24 24\"\n",
              "     width=\"24px\">\n",
              "    <g>\n",
              "        <path d=\"M19 3H5c-1.1 0-2 .9-2 2v14c0 1.1.9 2 2 2h14c1.1 0 2-.9 2-2V5c0-1.1-.9-2-2-2zM9 17H7v-7h2v7zm4 0h-2V7h2v10zm4 0h-2v-4h2v4z\"/>\n",
              "    </g>\n",
              "</svg>\n",
              "  </button>\n",
              "\n",
              "<style>\n",
              "  .colab-df-quickchart {\n",
              "      --bg-color: #E8F0FE;\n",
              "      --fill-color: #1967D2;\n",
              "      --hover-bg-color: #E2EBFA;\n",
              "      --hover-fill-color: #174EA6;\n",
              "      --disabled-fill-color: #AAA;\n",
              "      --disabled-bg-color: #DDD;\n",
              "  }\n",
              "\n",
              "  [theme=dark] .colab-df-quickchart {\n",
              "      --bg-color: #3B4455;\n",
              "      --fill-color: #D2E3FC;\n",
              "      --hover-bg-color: #434B5C;\n",
              "      --hover-fill-color: #FFFFFF;\n",
              "      --disabled-bg-color: #3B4455;\n",
              "      --disabled-fill-color: #666;\n",
              "  }\n",
              "\n",
              "  .colab-df-quickchart {\n",
              "    background-color: var(--bg-color);\n",
              "    border: none;\n",
              "    border-radius: 50%;\n",
              "    cursor: pointer;\n",
              "    display: none;\n",
              "    fill: var(--fill-color);\n",
              "    height: 32px;\n",
              "    padding: 0;\n",
              "    width: 32px;\n",
              "  }\n",
              "\n",
              "  .colab-df-quickchart:hover {\n",
              "    background-color: var(--hover-bg-color);\n",
              "    box-shadow: 0 1px 2px rgba(60, 64, 67, 0.3), 0 1px 3px 1px rgba(60, 64, 67, 0.15);\n",
              "    fill: var(--button-hover-fill-color);\n",
              "  }\n",
              "\n",
              "  .colab-df-quickchart-complete:disabled,\n",
              "  .colab-df-quickchart-complete:disabled:hover {\n",
              "    background-color: var(--disabled-bg-color);\n",
              "    fill: var(--disabled-fill-color);\n",
              "    box-shadow: none;\n",
              "  }\n",
              "\n",
              "  .colab-df-spinner {\n",
              "    border: 2px solid var(--fill-color);\n",
              "    border-color: transparent;\n",
              "    border-bottom-color: var(--fill-color);\n",
              "    animation:\n",
              "      spin 1s steps(1) infinite;\n",
              "  }\n",
              "\n",
              "  @keyframes spin {\n",
              "    0% {\n",
              "      border-color: transparent;\n",
              "      border-bottom-color: var(--fill-color);\n",
              "      border-left-color: var(--fill-color);\n",
              "    }\n",
              "    20% {\n",
              "      border-color: transparent;\n",
              "      border-left-color: var(--fill-color);\n",
              "      border-top-color: var(--fill-color);\n",
              "    }\n",
              "    30% {\n",
              "      border-color: transparent;\n",
              "      border-left-color: var(--fill-color);\n",
              "      border-top-color: var(--fill-color);\n",
              "      border-right-color: var(--fill-color);\n",
              "    }\n",
              "    40% {\n",
              "      border-color: transparent;\n",
              "      border-right-color: var(--fill-color);\n",
              "      border-top-color: var(--fill-color);\n",
              "    }\n",
              "    60% {\n",
              "      border-color: transparent;\n",
              "      border-right-color: var(--fill-color);\n",
              "    }\n",
              "    80% {\n",
              "      border-color: transparent;\n",
              "      border-right-color: var(--fill-color);\n",
              "      border-bottom-color: var(--fill-color);\n",
              "    }\n",
              "    90% {\n",
              "      border-color: transparent;\n",
              "      border-bottom-color: var(--fill-color);\n",
              "    }\n",
              "  }\n",
              "</style>\n",
              "\n",
              "  <script>\n",
              "    async function quickchart(key) {\n",
              "      const quickchartButtonEl =\n",
              "        document.querySelector('#' + key + ' button');\n",
              "      quickchartButtonEl.disabled = true;  // To prevent multiple clicks.\n",
              "      quickchartButtonEl.classList.add('colab-df-spinner');\n",
              "      try {\n",
              "        const charts = await google.colab.kernel.invokeFunction(\n",
              "            'suggestCharts', [key], {});\n",
              "      } catch (error) {\n",
              "        console.error('Error during call to suggestCharts:', error);\n",
              "      }\n",
              "      quickchartButtonEl.classList.remove('colab-df-spinner');\n",
              "      quickchartButtonEl.classList.add('colab-df-quickchart-complete');\n",
              "    }\n",
              "    (() => {\n",
              "      let quickchartButtonEl =\n",
              "        document.querySelector('#df-71ef4129-254b-490d-97c9-09605fa1b27f button');\n",
              "      quickchartButtonEl.style.display =\n",
              "        google.colab.kernel.accessAllowed ? 'block' : 'none';\n",
              "    })();\n",
              "  </script>\n",
              "</div>\n",
              "    </div>\n",
              "  </div>\n"
            ]
          },
          "metadata": {},
          "execution_count": 30
        }
      ]
    },
    {
      "cell_type": "markdown",
      "source": [
        "##Finding Row with the Lowest mean"
      ],
      "metadata": {
        "id": "gBURx085Rl9q"
      }
    },
    {
      "cell_type": "code",
      "source": [
        "mean=np.mean(df,axis=1)\n",
        "r=np.argmin(mean)+1\n",
        "r"
      ],
      "metadata": {
        "id": "fBcNK8Q5Rnb9",
        "colab": {
          "base_uri": "https://localhost:8080/"
        },
        "outputId": "2b82f551-e277-4444-caca-a6a39da7c099"
      },
      "execution_count": 31,
      "outputs": [
        {
          "output_type": "execute_result",
          "data": {
            "text/plain": [
              "1"
            ]
          },
          "metadata": {},
          "execution_count": 31
        }
      ]
    },
    {
      "cell_type": "markdown",
      "source": [
        "###8th Row has the Lowest Mean"
      ],
      "metadata": {
        "id": "XGi4QUmvS57o"
      }
    },
    {
      "cell_type": "markdown",
      "source": [
        "Finding column with the highest standard deviation"
      ],
      "metadata": {
        "id": "xjcBYds9TtLn"
      }
    },
    {
      "cell_type": "code",
      "source": [
        "std=np.std(df,axis=0)\n",
        "c=np.argmax(std)+1\n",
        "c"
      ],
      "metadata": {
        "id": "ZXcZ1QIzS9kp",
        "colab": {
          "base_uri": "https://localhost:8080/"
        },
        "outputId": "2980b70c-a6d3-4b7b-e383-5432c64d40c2"
      },
      "execution_count": 32,
      "outputs": [
        {
          "output_type": "execute_result",
          "data": {
            "text/plain": [
              "5"
            ]
          },
          "metadata": {},
          "execution_count": 32
        }
      ]
    },
    {
      "cell_type": "markdown",
      "source": [
        "### 5th Column has highest Standard Deviation"
      ],
      "metadata": {
        "id": "jLgLP7-QUR-2"
      }
    },
    {
      "cell_type": "markdown",
      "source": [
        "## Creating Column f"
      ],
      "metadata": {
        "id": "tEco5MikY6rw"
      }
    },
    {
      "cell_type": "code",
      "source": [
        "f=np.sum(df,axis=1)\n",
        "gf=copy.deepcopy(df)\n",
        "gf[\"f\"]=f\n",
        "gf"
      ],
      "metadata": {
        "id": "q_evSHpHU9c5",
        "colab": {
          "base_uri": "https://localhost:8080/",
          "height": 676
        },
        "outputId": "46d57a78-403f-4a91-caf0-067d32948675"
      },
      "execution_count": 33,
      "outputs": [
        {
          "output_type": "execute_result",
          "data": {
            "text/plain": [
              "           a         b         c         d         e         f\n",
              "0   1.098954  1.201182  1.203954  1.801012  1.041090  6.346192\n",
              "1   1.747202  1.928617  1.587563  1.880681  1.230562  8.374626\n",
              "2   1.417275  1.013344  1.043874  1.383107  1.981518  6.839119\n",
              "3   1.698205  1.154830  1.400956  1.686782  1.647850  7.588623\n",
              "4   1.448735  1.516542  1.971178  1.584383  1.754596  8.275433\n",
              "5   1.779315  1.274107  1.387838  1.871619  1.743528  8.056406\n",
              "6   1.909606  1.053015  1.820136  1.897921  1.067862  7.748539\n",
              "7   1.967831  1.801678  1.840179  1.831502  1.179400  8.620590\n",
              "8   1.432267  1.034448  1.191877  1.391896  1.455771  6.506258\n",
              "9   1.851008  1.479971  1.980571  1.362845  1.911139  8.585535\n",
              "10  1.285684  1.636362  1.628241  1.944928  1.378907  7.874122\n",
              "11  1.929475  1.504596  1.314915  1.353149  1.861452  7.963588\n",
              "12  1.329810  1.823742  1.837802  1.683656  1.751900  8.426910\n",
              "13  1.912916  1.158098  1.348853  1.762686  1.779511  7.962064\n",
              "14  1.852346  1.731080  1.703015  1.958055  1.796217  9.040713\n",
              "15  1.414894  1.465093  1.942552  1.815752  1.028016  7.666308\n",
              "16  1.389661  1.175858  1.784546  1.288958  1.093105  6.732127\n",
              "17  1.655867  1.305586  1.254823  1.182830  1.252893  6.652000\n",
              "18  1.476872  1.598122  1.252493  1.399908  1.148762  6.876158\n",
              "19  1.403063  1.584497  1.461752  1.138020  1.042403  6.629734"
            ],
            "text/html": [
              "\n",
              "  <div id=\"df-bfef6c82-1e8d-455a-9c00-dba5aad6166f\" class=\"colab-df-container\">\n",
              "    <div>\n",
              "<style scoped>\n",
              "    .dataframe tbody tr th:only-of-type {\n",
              "        vertical-align: middle;\n",
              "    }\n",
              "\n",
              "    .dataframe tbody tr th {\n",
              "        vertical-align: top;\n",
              "    }\n",
              "\n",
              "    .dataframe thead th {\n",
              "        text-align: right;\n",
              "    }\n",
              "</style>\n",
              "<table border=\"1\" class=\"dataframe\">\n",
              "  <thead>\n",
              "    <tr style=\"text-align: right;\">\n",
              "      <th></th>\n",
              "      <th>a</th>\n",
              "      <th>b</th>\n",
              "      <th>c</th>\n",
              "      <th>d</th>\n",
              "      <th>e</th>\n",
              "      <th>f</th>\n",
              "    </tr>\n",
              "  </thead>\n",
              "  <tbody>\n",
              "    <tr>\n",
              "      <th>0</th>\n",
              "      <td>1.098954</td>\n",
              "      <td>1.201182</td>\n",
              "      <td>1.203954</td>\n",
              "      <td>1.801012</td>\n",
              "      <td>1.041090</td>\n",
              "      <td>6.346192</td>\n",
              "    </tr>\n",
              "    <tr>\n",
              "      <th>1</th>\n",
              "      <td>1.747202</td>\n",
              "      <td>1.928617</td>\n",
              "      <td>1.587563</td>\n",
              "      <td>1.880681</td>\n",
              "      <td>1.230562</td>\n",
              "      <td>8.374626</td>\n",
              "    </tr>\n",
              "    <tr>\n",
              "      <th>2</th>\n",
              "      <td>1.417275</td>\n",
              "      <td>1.013344</td>\n",
              "      <td>1.043874</td>\n",
              "      <td>1.383107</td>\n",
              "      <td>1.981518</td>\n",
              "      <td>6.839119</td>\n",
              "    </tr>\n",
              "    <tr>\n",
              "      <th>3</th>\n",
              "      <td>1.698205</td>\n",
              "      <td>1.154830</td>\n",
              "      <td>1.400956</td>\n",
              "      <td>1.686782</td>\n",
              "      <td>1.647850</td>\n",
              "      <td>7.588623</td>\n",
              "    </tr>\n",
              "    <tr>\n",
              "      <th>4</th>\n",
              "      <td>1.448735</td>\n",
              "      <td>1.516542</td>\n",
              "      <td>1.971178</td>\n",
              "      <td>1.584383</td>\n",
              "      <td>1.754596</td>\n",
              "      <td>8.275433</td>\n",
              "    </tr>\n",
              "    <tr>\n",
              "      <th>5</th>\n",
              "      <td>1.779315</td>\n",
              "      <td>1.274107</td>\n",
              "      <td>1.387838</td>\n",
              "      <td>1.871619</td>\n",
              "      <td>1.743528</td>\n",
              "      <td>8.056406</td>\n",
              "    </tr>\n",
              "    <tr>\n",
              "      <th>6</th>\n",
              "      <td>1.909606</td>\n",
              "      <td>1.053015</td>\n",
              "      <td>1.820136</td>\n",
              "      <td>1.897921</td>\n",
              "      <td>1.067862</td>\n",
              "      <td>7.748539</td>\n",
              "    </tr>\n",
              "    <tr>\n",
              "      <th>7</th>\n",
              "      <td>1.967831</td>\n",
              "      <td>1.801678</td>\n",
              "      <td>1.840179</td>\n",
              "      <td>1.831502</td>\n",
              "      <td>1.179400</td>\n",
              "      <td>8.620590</td>\n",
              "    </tr>\n",
              "    <tr>\n",
              "      <th>8</th>\n",
              "      <td>1.432267</td>\n",
              "      <td>1.034448</td>\n",
              "      <td>1.191877</td>\n",
              "      <td>1.391896</td>\n",
              "      <td>1.455771</td>\n",
              "      <td>6.506258</td>\n",
              "    </tr>\n",
              "    <tr>\n",
              "      <th>9</th>\n",
              "      <td>1.851008</td>\n",
              "      <td>1.479971</td>\n",
              "      <td>1.980571</td>\n",
              "      <td>1.362845</td>\n",
              "      <td>1.911139</td>\n",
              "      <td>8.585535</td>\n",
              "    </tr>\n",
              "    <tr>\n",
              "      <th>10</th>\n",
              "      <td>1.285684</td>\n",
              "      <td>1.636362</td>\n",
              "      <td>1.628241</td>\n",
              "      <td>1.944928</td>\n",
              "      <td>1.378907</td>\n",
              "      <td>7.874122</td>\n",
              "    </tr>\n",
              "    <tr>\n",
              "      <th>11</th>\n",
              "      <td>1.929475</td>\n",
              "      <td>1.504596</td>\n",
              "      <td>1.314915</td>\n",
              "      <td>1.353149</td>\n",
              "      <td>1.861452</td>\n",
              "      <td>7.963588</td>\n",
              "    </tr>\n",
              "    <tr>\n",
              "      <th>12</th>\n",
              "      <td>1.329810</td>\n",
              "      <td>1.823742</td>\n",
              "      <td>1.837802</td>\n",
              "      <td>1.683656</td>\n",
              "      <td>1.751900</td>\n",
              "      <td>8.426910</td>\n",
              "    </tr>\n",
              "    <tr>\n",
              "      <th>13</th>\n",
              "      <td>1.912916</td>\n",
              "      <td>1.158098</td>\n",
              "      <td>1.348853</td>\n",
              "      <td>1.762686</td>\n",
              "      <td>1.779511</td>\n",
              "      <td>7.962064</td>\n",
              "    </tr>\n",
              "    <tr>\n",
              "      <th>14</th>\n",
              "      <td>1.852346</td>\n",
              "      <td>1.731080</td>\n",
              "      <td>1.703015</td>\n",
              "      <td>1.958055</td>\n",
              "      <td>1.796217</td>\n",
              "      <td>9.040713</td>\n",
              "    </tr>\n",
              "    <tr>\n",
              "      <th>15</th>\n",
              "      <td>1.414894</td>\n",
              "      <td>1.465093</td>\n",
              "      <td>1.942552</td>\n",
              "      <td>1.815752</td>\n",
              "      <td>1.028016</td>\n",
              "      <td>7.666308</td>\n",
              "    </tr>\n",
              "    <tr>\n",
              "      <th>16</th>\n",
              "      <td>1.389661</td>\n",
              "      <td>1.175858</td>\n",
              "      <td>1.784546</td>\n",
              "      <td>1.288958</td>\n",
              "      <td>1.093105</td>\n",
              "      <td>6.732127</td>\n",
              "    </tr>\n",
              "    <tr>\n",
              "      <th>17</th>\n",
              "      <td>1.655867</td>\n",
              "      <td>1.305586</td>\n",
              "      <td>1.254823</td>\n",
              "      <td>1.182830</td>\n",
              "      <td>1.252893</td>\n",
              "      <td>6.652000</td>\n",
              "    </tr>\n",
              "    <tr>\n",
              "      <th>18</th>\n",
              "      <td>1.476872</td>\n",
              "      <td>1.598122</td>\n",
              "      <td>1.252493</td>\n",
              "      <td>1.399908</td>\n",
              "      <td>1.148762</td>\n",
              "      <td>6.876158</td>\n",
              "    </tr>\n",
              "    <tr>\n",
              "      <th>19</th>\n",
              "      <td>1.403063</td>\n",
              "      <td>1.584497</td>\n",
              "      <td>1.461752</td>\n",
              "      <td>1.138020</td>\n",
              "      <td>1.042403</td>\n",
              "      <td>6.629734</td>\n",
              "    </tr>\n",
              "  </tbody>\n",
              "</table>\n",
              "</div>\n",
              "    <div class=\"colab-df-buttons\">\n",
              "\n",
              "  <div class=\"colab-df-container\">\n",
              "    <button class=\"colab-df-convert\" onclick=\"convertToInteractive('df-bfef6c82-1e8d-455a-9c00-dba5aad6166f')\"\n",
              "            title=\"Convert this dataframe to an interactive table.\"\n",
              "            style=\"display:none;\">\n",
              "\n",
              "  <svg xmlns=\"http://www.w3.org/2000/svg\" height=\"24px\" viewBox=\"0 -960 960 960\">\n",
              "    <path d=\"M120-120v-720h720v720H120Zm60-500h600v-160H180v160Zm220 220h160v-160H400v160Zm0 220h160v-160H400v160ZM180-400h160v-160H180v160Zm440 0h160v-160H620v160ZM180-180h160v-160H180v160Zm440 0h160v-160H620v160Z\"/>\n",
              "  </svg>\n",
              "    </button>\n",
              "\n",
              "  <style>\n",
              "    .colab-df-container {\n",
              "      display:flex;\n",
              "      gap: 12px;\n",
              "    }\n",
              "\n",
              "    .colab-df-convert {\n",
              "      background-color: #E8F0FE;\n",
              "      border: none;\n",
              "      border-radius: 50%;\n",
              "      cursor: pointer;\n",
              "      display: none;\n",
              "      fill: #1967D2;\n",
              "      height: 32px;\n",
              "      padding: 0 0 0 0;\n",
              "      width: 32px;\n",
              "    }\n",
              "\n",
              "    .colab-df-convert:hover {\n",
              "      background-color: #E2EBFA;\n",
              "      box-shadow: 0px 1px 2px rgba(60, 64, 67, 0.3), 0px 1px 3px 1px rgba(60, 64, 67, 0.15);\n",
              "      fill: #174EA6;\n",
              "    }\n",
              "\n",
              "    .colab-df-buttons div {\n",
              "      margin-bottom: 4px;\n",
              "    }\n",
              "\n",
              "    [theme=dark] .colab-df-convert {\n",
              "      background-color: #3B4455;\n",
              "      fill: #D2E3FC;\n",
              "    }\n",
              "\n",
              "    [theme=dark] .colab-df-convert:hover {\n",
              "      background-color: #434B5C;\n",
              "      box-shadow: 0px 1px 3px 1px rgba(0, 0, 0, 0.15);\n",
              "      filter: drop-shadow(0px 1px 2px rgba(0, 0, 0, 0.3));\n",
              "      fill: #FFFFFF;\n",
              "    }\n",
              "  </style>\n",
              "\n",
              "    <script>\n",
              "      const buttonEl =\n",
              "        document.querySelector('#df-bfef6c82-1e8d-455a-9c00-dba5aad6166f button.colab-df-convert');\n",
              "      buttonEl.style.display =\n",
              "        google.colab.kernel.accessAllowed ? 'block' : 'none';\n",
              "\n",
              "      async function convertToInteractive(key) {\n",
              "        const element = document.querySelector('#df-bfef6c82-1e8d-455a-9c00-dba5aad6166f');\n",
              "        const dataTable =\n",
              "          await google.colab.kernel.invokeFunction('convertToInteractive',\n",
              "                                                    [key], {});\n",
              "        if (!dataTable) return;\n",
              "\n",
              "        const docLinkHtml = 'Like what you see? Visit the ' +\n",
              "          '<a target=\"_blank\" href=https://colab.research.google.com/notebooks/data_table.ipynb>data table notebook</a>'\n",
              "          + ' to learn more about interactive tables.';\n",
              "        element.innerHTML = '';\n",
              "        dataTable['output_type'] = 'display_data';\n",
              "        await google.colab.output.renderOutput(dataTable, element);\n",
              "        const docLink = document.createElement('div');\n",
              "        docLink.innerHTML = docLinkHtml;\n",
              "        element.appendChild(docLink);\n",
              "      }\n",
              "    </script>\n",
              "  </div>\n",
              "\n",
              "\n",
              "<div id=\"df-c6237727-e83d-4a79-8418-3793dfc548af\">\n",
              "  <button class=\"colab-df-quickchart\" onclick=\"quickchart('df-c6237727-e83d-4a79-8418-3793dfc548af')\"\n",
              "            title=\"Suggest charts\"\n",
              "            style=\"display:none;\">\n",
              "\n",
              "<svg xmlns=\"http://www.w3.org/2000/svg\" height=\"24px\"viewBox=\"0 0 24 24\"\n",
              "     width=\"24px\">\n",
              "    <g>\n",
              "        <path d=\"M19 3H5c-1.1 0-2 .9-2 2v14c0 1.1.9 2 2 2h14c1.1 0 2-.9 2-2V5c0-1.1-.9-2-2-2zM9 17H7v-7h2v7zm4 0h-2V7h2v10zm4 0h-2v-4h2v4z\"/>\n",
              "    </g>\n",
              "</svg>\n",
              "  </button>\n",
              "\n",
              "<style>\n",
              "  .colab-df-quickchart {\n",
              "      --bg-color: #E8F0FE;\n",
              "      --fill-color: #1967D2;\n",
              "      --hover-bg-color: #E2EBFA;\n",
              "      --hover-fill-color: #174EA6;\n",
              "      --disabled-fill-color: #AAA;\n",
              "      --disabled-bg-color: #DDD;\n",
              "  }\n",
              "\n",
              "  [theme=dark] .colab-df-quickchart {\n",
              "      --bg-color: #3B4455;\n",
              "      --fill-color: #D2E3FC;\n",
              "      --hover-bg-color: #434B5C;\n",
              "      --hover-fill-color: #FFFFFF;\n",
              "      --disabled-bg-color: #3B4455;\n",
              "      --disabled-fill-color: #666;\n",
              "  }\n",
              "\n",
              "  .colab-df-quickchart {\n",
              "    background-color: var(--bg-color);\n",
              "    border: none;\n",
              "    border-radius: 50%;\n",
              "    cursor: pointer;\n",
              "    display: none;\n",
              "    fill: var(--fill-color);\n",
              "    height: 32px;\n",
              "    padding: 0;\n",
              "    width: 32px;\n",
              "  }\n",
              "\n",
              "  .colab-df-quickchart:hover {\n",
              "    background-color: var(--hover-bg-color);\n",
              "    box-shadow: 0 1px 2px rgba(60, 64, 67, 0.3), 0 1px 3px 1px rgba(60, 64, 67, 0.15);\n",
              "    fill: var(--button-hover-fill-color);\n",
              "  }\n",
              "\n",
              "  .colab-df-quickchart-complete:disabled,\n",
              "  .colab-df-quickchart-complete:disabled:hover {\n",
              "    background-color: var(--disabled-bg-color);\n",
              "    fill: var(--disabled-fill-color);\n",
              "    box-shadow: none;\n",
              "  }\n",
              "\n",
              "  .colab-df-spinner {\n",
              "    border: 2px solid var(--fill-color);\n",
              "    border-color: transparent;\n",
              "    border-bottom-color: var(--fill-color);\n",
              "    animation:\n",
              "      spin 1s steps(1) infinite;\n",
              "  }\n",
              "\n",
              "  @keyframes spin {\n",
              "    0% {\n",
              "      border-color: transparent;\n",
              "      border-bottom-color: var(--fill-color);\n",
              "      border-left-color: var(--fill-color);\n",
              "    }\n",
              "    20% {\n",
              "      border-color: transparent;\n",
              "      border-left-color: var(--fill-color);\n",
              "      border-top-color: var(--fill-color);\n",
              "    }\n",
              "    30% {\n",
              "      border-color: transparent;\n",
              "      border-left-color: var(--fill-color);\n",
              "      border-top-color: var(--fill-color);\n",
              "      border-right-color: var(--fill-color);\n",
              "    }\n",
              "    40% {\n",
              "      border-color: transparent;\n",
              "      border-right-color: var(--fill-color);\n",
              "      border-top-color: var(--fill-color);\n",
              "    }\n",
              "    60% {\n",
              "      border-color: transparent;\n",
              "      border-right-color: var(--fill-color);\n",
              "    }\n",
              "    80% {\n",
              "      border-color: transparent;\n",
              "      border-right-color: var(--fill-color);\n",
              "      border-bottom-color: var(--fill-color);\n",
              "    }\n",
              "    90% {\n",
              "      border-color: transparent;\n",
              "      border-bottom-color: var(--fill-color);\n",
              "    }\n",
              "  }\n",
              "</style>\n",
              "\n",
              "  <script>\n",
              "    async function quickchart(key) {\n",
              "      const quickchartButtonEl =\n",
              "        document.querySelector('#' + key + ' button');\n",
              "      quickchartButtonEl.disabled = true;  // To prevent multiple clicks.\n",
              "      quickchartButtonEl.classList.add('colab-df-spinner');\n",
              "      try {\n",
              "        const charts = await google.colab.kernel.invokeFunction(\n",
              "            'suggestCharts', [key], {});\n",
              "      } catch (error) {\n",
              "        console.error('Error during call to suggestCharts:', error);\n",
              "      }\n",
              "      quickchartButtonEl.classList.remove('colab-df-spinner');\n",
              "      quickchartButtonEl.classList.add('colab-df-quickchart-complete');\n",
              "    }\n",
              "    (() => {\n",
              "      let quickchartButtonEl =\n",
              "        document.querySelector('#df-c6237727-e83d-4a79-8418-3793dfc548af button');\n",
              "      quickchartButtonEl.style.display =\n",
              "        google.colab.kernel.accessAllowed ? 'block' : 'none';\n",
              "    })();\n",
              "  </script>\n",
              "</div>\n",
              "    </div>\n",
              "  </div>\n"
            ]
          },
          "metadata": {},
          "execution_count": 33
        }
      ]
    },
    {
      "cell_type": "markdown",
      "source": [
        "## Setting condition of elements comparing with 8."
      ],
      "metadata": {
        "id": "HvHJgtnDa-FC"
      }
    },
    {
      "cell_type": "code",
      "source": [
        "indices_l=np.where(gf[\"f\"]<8)\n",
        "row_indices_l=indices_l[0]\n",
        "row_indices_l# Indices of rows where value of element in f is <8\n",
        "\n",
        "indices_g=np.where(gf[\"f\"]>8)\n",
        "row_indices_g=indices_g[0]\n"
      ],
      "metadata": {
        "id": "VMTy-U8vYzRs"
      },
      "execution_count": 34,
      "outputs": []
    },
    {
      "cell_type": "code",
      "source": [
        "gf[\"g\"]=np.zeros((20,))\n",
        "\n",
        "for i in row_indices_l:\n",
        "  gf[\"g\"][i]=\"LT8\"\n",
        "for i in row_indices_g:\n",
        "  gf[\"g\"][i]=\"GT8\"\n",
        "gf\n"
      ],
      "metadata": {
        "id": "zWJS0IQSa8qK",
        "colab": {
          "base_uri": "https://localhost:8080/",
          "height": 676
        },
        "outputId": "d90c8801-367e-4740-96df-1039ed04aa29"
      },
      "execution_count": 35,
      "outputs": [
        {
          "output_type": "execute_result",
          "data": {
            "text/plain": [
              "           a         b         c         d         e         f    g\n",
              "0   1.098954  1.201182  1.203954  1.801012  1.041090  6.346192  LT8\n",
              "1   1.747202  1.928617  1.587563  1.880681  1.230562  8.374626  GT8\n",
              "2   1.417275  1.013344  1.043874  1.383107  1.981518  6.839119  LT8\n",
              "3   1.698205  1.154830  1.400956  1.686782  1.647850  7.588623  LT8\n",
              "4   1.448735  1.516542  1.971178  1.584383  1.754596  8.275433  GT8\n",
              "5   1.779315  1.274107  1.387838  1.871619  1.743528  8.056406  GT8\n",
              "6   1.909606  1.053015  1.820136  1.897921  1.067862  7.748539  LT8\n",
              "7   1.967831  1.801678  1.840179  1.831502  1.179400  8.620590  GT8\n",
              "8   1.432267  1.034448  1.191877  1.391896  1.455771  6.506258  LT8\n",
              "9   1.851008  1.479971  1.980571  1.362845  1.911139  8.585535  GT8\n",
              "10  1.285684  1.636362  1.628241  1.944928  1.378907  7.874122  LT8\n",
              "11  1.929475  1.504596  1.314915  1.353149  1.861452  7.963588  LT8\n",
              "12  1.329810  1.823742  1.837802  1.683656  1.751900  8.426910  GT8\n",
              "13  1.912916  1.158098  1.348853  1.762686  1.779511  7.962064  LT8\n",
              "14  1.852346  1.731080  1.703015  1.958055  1.796217  9.040713  GT8\n",
              "15  1.414894  1.465093  1.942552  1.815752  1.028016  7.666308  LT8\n",
              "16  1.389661  1.175858  1.784546  1.288958  1.093105  6.732127  LT8\n",
              "17  1.655867  1.305586  1.254823  1.182830  1.252893  6.652000  LT8\n",
              "18  1.476872  1.598122  1.252493  1.399908  1.148762  6.876158  LT8\n",
              "19  1.403063  1.584497  1.461752  1.138020  1.042403  6.629734  LT8"
            ],
            "text/html": [
              "\n",
              "  <div id=\"df-d41095d0-a1ce-47a0-947b-c9fc05b5c918\" class=\"colab-df-container\">\n",
              "    <div>\n",
              "<style scoped>\n",
              "    .dataframe tbody tr th:only-of-type {\n",
              "        vertical-align: middle;\n",
              "    }\n",
              "\n",
              "    .dataframe tbody tr th {\n",
              "        vertical-align: top;\n",
              "    }\n",
              "\n",
              "    .dataframe thead th {\n",
              "        text-align: right;\n",
              "    }\n",
              "</style>\n",
              "<table border=\"1\" class=\"dataframe\">\n",
              "  <thead>\n",
              "    <tr style=\"text-align: right;\">\n",
              "      <th></th>\n",
              "      <th>a</th>\n",
              "      <th>b</th>\n",
              "      <th>c</th>\n",
              "      <th>d</th>\n",
              "      <th>e</th>\n",
              "      <th>f</th>\n",
              "      <th>g</th>\n",
              "    </tr>\n",
              "  </thead>\n",
              "  <tbody>\n",
              "    <tr>\n",
              "      <th>0</th>\n",
              "      <td>1.098954</td>\n",
              "      <td>1.201182</td>\n",
              "      <td>1.203954</td>\n",
              "      <td>1.801012</td>\n",
              "      <td>1.041090</td>\n",
              "      <td>6.346192</td>\n",
              "      <td>LT8</td>\n",
              "    </tr>\n",
              "    <tr>\n",
              "      <th>1</th>\n",
              "      <td>1.747202</td>\n",
              "      <td>1.928617</td>\n",
              "      <td>1.587563</td>\n",
              "      <td>1.880681</td>\n",
              "      <td>1.230562</td>\n",
              "      <td>8.374626</td>\n",
              "      <td>GT8</td>\n",
              "    </tr>\n",
              "    <tr>\n",
              "      <th>2</th>\n",
              "      <td>1.417275</td>\n",
              "      <td>1.013344</td>\n",
              "      <td>1.043874</td>\n",
              "      <td>1.383107</td>\n",
              "      <td>1.981518</td>\n",
              "      <td>6.839119</td>\n",
              "      <td>LT8</td>\n",
              "    </tr>\n",
              "    <tr>\n",
              "      <th>3</th>\n",
              "      <td>1.698205</td>\n",
              "      <td>1.154830</td>\n",
              "      <td>1.400956</td>\n",
              "      <td>1.686782</td>\n",
              "      <td>1.647850</td>\n",
              "      <td>7.588623</td>\n",
              "      <td>LT8</td>\n",
              "    </tr>\n",
              "    <tr>\n",
              "      <th>4</th>\n",
              "      <td>1.448735</td>\n",
              "      <td>1.516542</td>\n",
              "      <td>1.971178</td>\n",
              "      <td>1.584383</td>\n",
              "      <td>1.754596</td>\n",
              "      <td>8.275433</td>\n",
              "      <td>GT8</td>\n",
              "    </tr>\n",
              "    <tr>\n",
              "      <th>5</th>\n",
              "      <td>1.779315</td>\n",
              "      <td>1.274107</td>\n",
              "      <td>1.387838</td>\n",
              "      <td>1.871619</td>\n",
              "      <td>1.743528</td>\n",
              "      <td>8.056406</td>\n",
              "      <td>GT8</td>\n",
              "    </tr>\n",
              "    <tr>\n",
              "      <th>6</th>\n",
              "      <td>1.909606</td>\n",
              "      <td>1.053015</td>\n",
              "      <td>1.820136</td>\n",
              "      <td>1.897921</td>\n",
              "      <td>1.067862</td>\n",
              "      <td>7.748539</td>\n",
              "      <td>LT8</td>\n",
              "    </tr>\n",
              "    <tr>\n",
              "      <th>7</th>\n",
              "      <td>1.967831</td>\n",
              "      <td>1.801678</td>\n",
              "      <td>1.840179</td>\n",
              "      <td>1.831502</td>\n",
              "      <td>1.179400</td>\n",
              "      <td>8.620590</td>\n",
              "      <td>GT8</td>\n",
              "    </tr>\n",
              "    <tr>\n",
              "      <th>8</th>\n",
              "      <td>1.432267</td>\n",
              "      <td>1.034448</td>\n",
              "      <td>1.191877</td>\n",
              "      <td>1.391896</td>\n",
              "      <td>1.455771</td>\n",
              "      <td>6.506258</td>\n",
              "      <td>LT8</td>\n",
              "    </tr>\n",
              "    <tr>\n",
              "      <th>9</th>\n",
              "      <td>1.851008</td>\n",
              "      <td>1.479971</td>\n",
              "      <td>1.980571</td>\n",
              "      <td>1.362845</td>\n",
              "      <td>1.911139</td>\n",
              "      <td>8.585535</td>\n",
              "      <td>GT8</td>\n",
              "    </tr>\n",
              "    <tr>\n",
              "      <th>10</th>\n",
              "      <td>1.285684</td>\n",
              "      <td>1.636362</td>\n",
              "      <td>1.628241</td>\n",
              "      <td>1.944928</td>\n",
              "      <td>1.378907</td>\n",
              "      <td>7.874122</td>\n",
              "      <td>LT8</td>\n",
              "    </tr>\n",
              "    <tr>\n",
              "      <th>11</th>\n",
              "      <td>1.929475</td>\n",
              "      <td>1.504596</td>\n",
              "      <td>1.314915</td>\n",
              "      <td>1.353149</td>\n",
              "      <td>1.861452</td>\n",
              "      <td>7.963588</td>\n",
              "      <td>LT8</td>\n",
              "    </tr>\n",
              "    <tr>\n",
              "      <th>12</th>\n",
              "      <td>1.329810</td>\n",
              "      <td>1.823742</td>\n",
              "      <td>1.837802</td>\n",
              "      <td>1.683656</td>\n",
              "      <td>1.751900</td>\n",
              "      <td>8.426910</td>\n",
              "      <td>GT8</td>\n",
              "    </tr>\n",
              "    <tr>\n",
              "      <th>13</th>\n",
              "      <td>1.912916</td>\n",
              "      <td>1.158098</td>\n",
              "      <td>1.348853</td>\n",
              "      <td>1.762686</td>\n",
              "      <td>1.779511</td>\n",
              "      <td>7.962064</td>\n",
              "      <td>LT8</td>\n",
              "    </tr>\n",
              "    <tr>\n",
              "      <th>14</th>\n",
              "      <td>1.852346</td>\n",
              "      <td>1.731080</td>\n",
              "      <td>1.703015</td>\n",
              "      <td>1.958055</td>\n",
              "      <td>1.796217</td>\n",
              "      <td>9.040713</td>\n",
              "      <td>GT8</td>\n",
              "    </tr>\n",
              "    <tr>\n",
              "      <th>15</th>\n",
              "      <td>1.414894</td>\n",
              "      <td>1.465093</td>\n",
              "      <td>1.942552</td>\n",
              "      <td>1.815752</td>\n",
              "      <td>1.028016</td>\n",
              "      <td>7.666308</td>\n",
              "      <td>LT8</td>\n",
              "    </tr>\n",
              "    <tr>\n",
              "      <th>16</th>\n",
              "      <td>1.389661</td>\n",
              "      <td>1.175858</td>\n",
              "      <td>1.784546</td>\n",
              "      <td>1.288958</td>\n",
              "      <td>1.093105</td>\n",
              "      <td>6.732127</td>\n",
              "      <td>LT8</td>\n",
              "    </tr>\n",
              "    <tr>\n",
              "      <th>17</th>\n",
              "      <td>1.655867</td>\n",
              "      <td>1.305586</td>\n",
              "      <td>1.254823</td>\n",
              "      <td>1.182830</td>\n",
              "      <td>1.252893</td>\n",
              "      <td>6.652000</td>\n",
              "      <td>LT8</td>\n",
              "    </tr>\n",
              "    <tr>\n",
              "      <th>18</th>\n",
              "      <td>1.476872</td>\n",
              "      <td>1.598122</td>\n",
              "      <td>1.252493</td>\n",
              "      <td>1.399908</td>\n",
              "      <td>1.148762</td>\n",
              "      <td>6.876158</td>\n",
              "      <td>LT8</td>\n",
              "    </tr>\n",
              "    <tr>\n",
              "      <th>19</th>\n",
              "      <td>1.403063</td>\n",
              "      <td>1.584497</td>\n",
              "      <td>1.461752</td>\n",
              "      <td>1.138020</td>\n",
              "      <td>1.042403</td>\n",
              "      <td>6.629734</td>\n",
              "      <td>LT8</td>\n",
              "    </tr>\n",
              "  </tbody>\n",
              "</table>\n",
              "</div>\n",
              "    <div class=\"colab-df-buttons\">\n",
              "\n",
              "  <div class=\"colab-df-container\">\n",
              "    <button class=\"colab-df-convert\" onclick=\"convertToInteractive('df-d41095d0-a1ce-47a0-947b-c9fc05b5c918')\"\n",
              "            title=\"Convert this dataframe to an interactive table.\"\n",
              "            style=\"display:none;\">\n",
              "\n",
              "  <svg xmlns=\"http://www.w3.org/2000/svg\" height=\"24px\" viewBox=\"0 -960 960 960\">\n",
              "    <path d=\"M120-120v-720h720v720H120Zm60-500h600v-160H180v160Zm220 220h160v-160H400v160Zm0 220h160v-160H400v160ZM180-400h160v-160H180v160Zm440 0h160v-160H620v160ZM180-180h160v-160H180v160Zm440 0h160v-160H620v160Z\"/>\n",
              "  </svg>\n",
              "    </button>\n",
              "\n",
              "  <style>\n",
              "    .colab-df-container {\n",
              "      display:flex;\n",
              "      gap: 12px;\n",
              "    }\n",
              "\n",
              "    .colab-df-convert {\n",
              "      background-color: #E8F0FE;\n",
              "      border: none;\n",
              "      border-radius: 50%;\n",
              "      cursor: pointer;\n",
              "      display: none;\n",
              "      fill: #1967D2;\n",
              "      height: 32px;\n",
              "      padding: 0 0 0 0;\n",
              "      width: 32px;\n",
              "    }\n",
              "\n",
              "    .colab-df-convert:hover {\n",
              "      background-color: #E2EBFA;\n",
              "      box-shadow: 0px 1px 2px rgba(60, 64, 67, 0.3), 0px 1px 3px 1px rgba(60, 64, 67, 0.15);\n",
              "      fill: #174EA6;\n",
              "    }\n",
              "\n",
              "    .colab-df-buttons div {\n",
              "      margin-bottom: 4px;\n",
              "    }\n",
              "\n",
              "    [theme=dark] .colab-df-convert {\n",
              "      background-color: #3B4455;\n",
              "      fill: #D2E3FC;\n",
              "    }\n",
              "\n",
              "    [theme=dark] .colab-df-convert:hover {\n",
              "      background-color: #434B5C;\n",
              "      box-shadow: 0px 1px 3px 1px rgba(0, 0, 0, 0.15);\n",
              "      filter: drop-shadow(0px 1px 2px rgba(0, 0, 0, 0.3));\n",
              "      fill: #FFFFFF;\n",
              "    }\n",
              "  </style>\n",
              "\n",
              "    <script>\n",
              "      const buttonEl =\n",
              "        document.querySelector('#df-d41095d0-a1ce-47a0-947b-c9fc05b5c918 button.colab-df-convert');\n",
              "      buttonEl.style.display =\n",
              "        google.colab.kernel.accessAllowed ? 'block' : 'none';\n",
              "\n",
              "      async function convertToInteractive(key) {\n",
              "        const element = document.querySelector('#df-d41095d0-a1ce-47a0-947b-c9fc05b5c918');\n",
              "        const dataTable =\n",
              "          await google.colab.kernel.invokeFunction('convertToInteractive',\n",
              "                                                    [key], {});\n",
              "        if (!dataTable) return;\n",
              "\n",
              "        const docLinkHtml = 'Like what you see? Visit the ' +\n",
              "          '<a target=\"_blank\" href=https://colab.research.google.com/notebooks/data_table.ipynb>data table notebook</a>'\n",
              "          + ' to learn more about interactive tables.';\n",
              "        element.innerHTML = '';\n",
              "        dataTable['output_type'] = 'display_data';\n",
              "        await google.colab.output.renderOutput(dataTable, element);\n",
              "        const docLink = document.createElement('div');\n",
              "        docLink.innerHTML = docLinkHtml;\n",
              "        element.appendChild(docLink);\n",
              "      }\n",
              "    </script>\n",
              "  </div>\n",
              "\n",
              "\n",
              "<div id=\"df-685197bf-0bdd-408a-90de-34c44297ee8d\">\n",
              "  <button class=\"colab-df-quickchart\" onclick=\"quickchart('df-685197bf-0bdd-408a-90de-34c44297ee8d')\"\n",
              "            title=\"Suggest charts\"\n",
              "            style=\"display:none;\">\n",
              "\n",
              "<svg xmlns=\"http://www.w3.org/2000/svg\" height=\"24px\"viewBox=\"0 0 24 24\"\n",
              "     width=\"24px\">\n",
              "    <g>\n",
              "        <path d=\"M19 3H5c-1.1 0-2 .9-2 2v14c0 1.1.9 2 2 2h14c1.1 0 2-.9 2-2V5c0-1.1-.9-2-2-2zM9 17H7v-7h2v7zm4 0h-2V7h2v10zm4 0h-2v-4h2v4z\"/>\n",
              "    </g>\n",
              "</svg>\n",
              "  </button>\n",
              "\n",
              "<style>\n",
              "  .colab-df-quickchart {\n",
              "      --bg-color: #E8F0FE;\n",
              "      --fill-color: #1967D2;\n",
              "      --hover-bg-color: #E2EBFA;\n",
              "      --hover-fill-color: #174EA6;\n",
              "      --disabled-fill-color: #AAA;\n",
              "      --disabled-bg-color: #DDD;\n",
              "  }\n",
              "\n",
              "  [theme=dark] .colab-df-quickchart {\n",
              "      --bg-color: #3B4455;\n",
              "      --fill-color: #D2E3FC;\n",
              "      --hover-bg-color: #434B5C;\n",
              "      --hover-fill-color: #FFFFFF;\n",
              "      --disabled-bg-color: #3B4455;\n",
              "      --disabled-fill-color: #666;\n",
              "  }\n",
              "\n",
              "  .colab-df-quickchart {\n",
              "    background-color: var(--bg-color);\n",
              "    border: none;\n",
              "    border-radius: 50%;\n",
              "    cursor: pointer;\n",
              "    display: none;\n",
              "    fill: var(--fill-color);\n",
              "    height: 32px;\n",
              "    padding: 0;\n",
              "    width: 32px;\n",
              "  }\n",
              "\n",
              "  .colab-df-quickchart:hover {\n",
              "    background-color: var(--hover-bg-color);\n",
              "    box-shadow: 0 1px 2px rgba(60, 64, 67, 0.3), 0 1px 3px 1px rgba(60, 64, 67, 0.15);\n",
              "    fill: var(--button-hover-fill-color);\n",
              "  }\n",
              "\n",
              "  .colab-df-quickchart-complete:disabled,\n",
              "  .colab-df-quickchart-complete:disabled:hover {\n",
              "    background-color: var(--disabled-bg-color);\n",
              "    fill: var(--disabled-fill-color);\n",
              "    box-shadow: none;\n",
              "  }\n",
              "\n",
              "  .colab-df-spinner {\n",
              "    border: 2px solid var(--fill-color);\n",
              "    border-color: transparent;\n",
              "    border-bottom-color: var(--fill-color);\n",
              "    animation:\n",
              "      spin 1s steps(1) infinite;\n",
              "  }\n",
              "\n",
              "  @keyframes spin {\n",
              "    0% {\n",
              "      border-color: transparent;\n",
              "      border-bottom-color: var(--fill-color);\n",
              "      border-left-color: var(--fill-color);\n",
              "    }\n",
              "    20% {\n",
              "      border-color: transparent;\n",
              "      border-left-color: var(--fill-color);\n",
              "      border-top-color: var(--fill-color);\n",
              "    }\n",
              "    30% {\n",
              "      border-color: transparent;\n",
              "      border-left-color: var(--fill-color);\n",
              "      border-top-color: var(--fill-color);\n",
              "      border-right-color: var(--fill-color);\n",
              "    }\n",
              "    40% {\n",
              "      border-color: transparent;\n",
              "      border-right-color: var(--fill-color);\n",
              "      border-top-color: var(--fill-color);\n",
              "    }\n",
              "    60% {\n",
              "      border-color: transparent;\n",
              "      border-right-color: var(--fill-color);\n",
              "    }\n",
              "    80% {\n",
              "      border-color: transparent;\n",
              "      border-right-color: var(--fill-color);\n",
              "      border-bottom-color: var(--fill-color);\n",
              "    }\n",
              "    90% {\n",
              "      border-color: transparent;\n",
              "      border-bottom-color: var(--fill-color);\n",
              "    }\n",
              "  }\n",
              "</style>\n",
              "\n",
              "  <script>\n",
              "    async function quickchart(key) {\n",
              "      const quickchartButtonEl =\n",
              "        document.querySelector('#' + key + ' button');\n",
              "      quickchartButtonEl.disabled = true;  // To prevent multiple clicks.\n",
              "      quickchartButtonEl.classList.add('colab-df-spinner');\n",
              "      try {\n",
              "        const charts = await google.colab.kernel.invokeFunction(\n",
              "            'suggestCharts', [key], {});\n",
              "      } catch (error) {\n",
              "        console.error('Error during call to suggestCharts:', error);\n",
              "      }\n",
              "      quickchartButtonEl.classList.remove('colab-df-spinner');\n",
              "      quickchartButtonEl.classList.add('colab-df-quickchart-complete');\n",
              "    }\n",
              "    (() => {\n",
              "      let quickchartButtonEl =\n",
              "        document.querySelector('#df-685197bf-0bdd-408a-90de-34c44297ee8d button');\n",
              "      quickchartButtonEl.style.display =\n",
              "        google.colab.kernel.accessAllowed ? 'block' : 'none';\n",
              "    })();\n",
              "  </script>\n",
              "</div>\n",
              "    </div>\n",
              "  </div>\n"
            ]
          },
          "metadata": {},
          "execution_count": 35
        }
      ]
    },
    {
      "cell_type": "code",
      "source": [
        "n=len(row_indices_l)\n",
        "n"
      ],
      "metadata": {
        "id": "hr2F0O7MeLzc",
        "colab": {
          "base_uri": "https://localhost:8080/"
        },
        "outputId": "757669ff-230d-4191-a3b5-41e8fa3f3070"
      },
      "execution_count": 36,
      "outputs": [
        {
          "output_type": "execute_result",
          "data": {
            "text/plain": [
              "13"
            ]
          },
          "metadata": {},
          "execution_count": 36
        }
      ]
    },
    {
      "cell_type": "markdown",
      "source": [
        "15 rows have value of clomn f<8"
      ],
      "metadata": {
        "id": "i_qqgAUhfTVl"
      }
    },
    {
      "cell_type": "code",
      "source": [
        "hf=gf.groupby('g')\n",
        "af=hf.get_group(\"LT8\")# Grouping the dataframe based on values of LT8 and GT8\n",
        "std_l=np.std(af,axis=0)\n",
        "print(std_l[\"f\"])"
      ],
      "metadata": {
        "id": "O1CLuE2kfO--",
        "colab": {
          "base_uri": "https://localhost:8080/"
        },
        "outputId": "8cf9e785-a478-4f76-af4a-12e04bbb7777"
      },
      "execution_count": 37,
      "outputs": [
        {
          "output_type": "stream",
          "name": "stdout",
          "text": [
            "0.5931558849661162\n"
          ]
        },
        {
          "output_type": "stream",
          "name": "stderr",
          "text": [
            "/usr/local/lib/python3.10/dist-packages/numpy/core/fromnumeric.py:3571: FutureWarning: The default value of numeric_only in DataFrame.std is deprecated. In a future version, it will default to False. In addition, specifying 'numeric_only=None' is deprecated. Select only valid columns or specify the value of numeric_only to silence this warning.\n",
            "  return std(axis=axis, dtype=dtype, out=out, ddof=ddof, **kwargs)\n"
          ]
        }
      ]
    },
    {
      "cell_type": "markdown",
      "source": [
        "### Standard deviation of the column f where values are less than 8=0.294"
      ],
      "metadata": {
        "id": "E92xGfajhfFS"
      }
    },
    {
      "cell_type": "code",
      "source": [
        "bf=hf.get_group(\"GT8\")\n",
        "std_g=np.std(bf,axis=0)\n",
        "print(std_g[\"f\"])\n"
      ],
      "metadata": {
        "id": "clrfhatghr4l",
        "colab": {
          "base_uri": "https://localhost:8080/"
        },
        "outputId": "93970831-6516-410f-f039-d36fb7541986"
      },
      "execution_count": 38,
      "outputs": [
        {
          "output_type": "stream",
          "name": "stdout",
          "text": [
            "0.2879596195422479\n"
          ]
        },
        {
          "output_type": "stream",
          "name": "stderr",
          "text": [
            "/usr/local/lib/python3.10/dist-packages/numpy/core/fromnumeric.py:3571: FutureWarning: The default value of numeric_only in DataFrame.std is deprecated. In a future version, it will default to False. In addition, specifying 'numeric_only=None' is deprecated. Select only valid columns or specify the value of numeric_only to silence this warning.\n",
            "  return std(axis=axis, dtype=dtype, out=out, ddof=ddof, **kwargs)\n"
          ]
        }
      ]
    },
    {
      "cell_type": "markdown",
      "source": [
        "### Standard Deviation of column f where values are greater than 8=0.37759711293321735"
      ],
      "metadata": {
        "id": "ReudgJp8h_xC"
      }
    },
    {
      "cell_type": "markdown",
      "source": [
        "# Question 12"
      ],
      "metadata": {
        "id": "12PJKxcSmZDl"
      }
    },
    {
      "cell_type": "code",
      "source": [
        "# This can be explained by three examples\n",
        "\n",
        "a=np.array([10.,15.,20])\n",
        "b=np.array([5.,5.,5.])\n",
        "c=5\n",
        "print(a*b,a*c)\n",
        "# Here,the smaller array(c) is stretched to fit the dimensions of the larger array, and hence multiplication(element-wise) becomes compatible.\n",
        "\n"
      ],
      "metadata": {
        "colab": {
          "base_uri": "https://localhost:8080/"
        },
        "id": "vyjaDE9lmboX",
        "outputId": "f6673163-34f8-4c66-b34d-944b4e46bb9e"
      },
      "execution_count": 39,
      "outputs": [
        {
          "output_type": "stream",
          "name": "stdout",
          "text": [
            "[ 50.  75. 100.] [ 50.  75. 100.]\n"
          ]
        }
      ]
    },
    {
      "cell_type": "code",
      "source": [
        "# One more example\n",
        "\n",
        "A=np.array([[10,10,10],[20,20,20],[30,30,30]])\n",
        "B=np.array([5,10,20])\n",
        "print(A/B)\n",
        "# Although dimensions of A and B don't match, B apparantely changes from [5,10,20]-->>[[5,5,5],[10,10,10],[20,20,20]], to fit the dimensionality of A"
      ],
      "metadata": {
        "colab": {
          "base_uri": "https://localhost:8080/"
        },
        "id": "iK8wjumRocql",
        "outputId": "1e46032c-6236-4528-b150-f1dbfb8f495a"
      },
      "execution_count": 40,
      "outputs": [
        {
          "output_type": "stream",
          "name": "stdout",
          "text": [
            "[[2.  1.  0.5]\n",
            " [4.  2.  1. ]\n",
            " [6.  3.  1.5]]\n"
          ]
        }
      ]
    },
    {
      "cell_type": "code",
      "source": [
        "# But, this fails when we input...\n",
        "\n",
        "B_f=np.array([5,10,15,20])\n",
        "A/B_f"
      ],
      "metadata": {
        "colab": {
          "base_uri": "https://localhost:8080/",
          "height": 211
        },
        "id": "cOC1u1SdpL7r",
        "outputId": "428f81fe-bd27-4e8d-ac76-b3d7a1784b4c"
      },
      "execution_count": 41,
      "outputs": [
        {
          "output_type": "error",
          "ename": "ValueError",
          "evalue": "operands could not be broadcast together with shapes (3,3) (4,) ",
          "traceback": [
            "\u001b[0;31m---------------------------------------------------------------------------\u001b[0m",
            "\u001b[0;31mValueError\u001b[0m                                Traceback (most recent call last)",
            "\u001b[0;32m<ipython-input-41-fbe1ef7ef003>\u001b[0m in \u001b[0;36m<cell line: 4>\u001b[0;34m()\u001b[0m\n\u001b[1;32m      2\u001b[0m \u001b[0;34m\u001b[0m\u001b[0m\n\u001b[1;32m      3\u001b[0m \u001b[0mB_f\u001b[0m\u001b[0;34m=\u001b[0m\u001b[0mnp\u001b[0m\u001b[0;34m.\u001b[0m\u001b[0marray\u001b[0m\u001b[0;34m(\u001b[0m\u001b[0;34m[\u001b[0m\u001b[0;36m5\u001b[0m\u001b[0;34m,\u001b[0m\u001b[0;36m10\u001b[0m\u001b[0;34m,\u001b[0m\u001b[0;36m15\u001b[0m\u001b[0;34m,\u001b[0m\u001b[0;36m20\u001b[0m\u001b[0;34m]\u001b[0m\u001b[0;34m)\u001b[0m\u001b[0;34m\u001b[0m\u001b[0;34m\u001b[0m\u001b[0m\n\u001b[0;32m----> 4\u001b[0;31m \u001b[0mA\u001b[0m\u001b[0;34m/\u001b[0m\u001b[0mB_f\u001b[0m\u001b[0;34m\u001b[0m\u001b[0;34m\u001b[0m\u001b[0m\n\u001b[0m",
            "\u001b[0;31mValueError\u001b[0m: operands could not be broadcast together with shapes (3,3) (4,) "
          ]
        }
      ]
    },
    {
      "cell_type": "markdown",
      "source": [
        "## This had to fail because in  no way could the array stretch to accomodate the dimensions of the larger Matrix"
      ],
      "metadata": {
        "id": "rfrx2HNvpnfM"
      }
    },
    {
      "cell_type": "code",
      "source": [
        "A=np.random.randint(2,20,(10,))\n",
        "A"
      ],
      "metadata": {
        "colab": {
          "base_uri": "https://localhost:8080/"
        },
        "id": "eHUlSl3LLAuw",
        "outputId": "cbaed7b7-768d-4fc6-ec36-139283bfc0fd"
      },
      "execution_count": 64,
      "outputs": [
        {
          "output_type": "execute_result",
          "data": {
            "text/plain": [
              "array([14,  8, 11, 14,  7,  3, 19,  3, 14,  9])"
            ]
          },
          "metadata": {},
          "execution_count": 64
        }
      ]
    },
    {
      "cell_type": "code",
      "source": [
        "def solve(arr,min_val=np.inf,index=-1,count=-1):\n",
        "\n",
        "  for i in arr:\n",
        "    index+=1\n",
        "    if i<min_val:\n",
        "      min_val=i\n",
        "      count=index\n",
        "  return(count)\n",
        "\n",
        "\n",
        "def num_solve(A):\n",
        "  C=np.argmin(A)\n",
        "  return(C)\n",
        "\n",
        "ind_1=solve(A)\n",
        "ind_2=num_solve(A)\n",
        "print(ind_1,ind_2)"
      ],
      "metadata": {
        "colab": {
          "base_uri": "https://localhost:8080/"
        },
        "id": "03wXcn3vKWp1",
        "outputId": "ab25b162-45ae-428b-b960-137ea41e139d"
      },
      "execution_count": 69,
      "outputs": [
        {
          "output_type": "stream",
          "name": "stdout",
          "text": [
            "5 5\n"
          ]
        }
      ]
    },
    {
      "cell_type": "markdown",
      "source": [
        "Both are coming equal."
      ],
      "metadata": {
        "id": "wpAbIsF5OPlZ"
      }
    }
  ]
}